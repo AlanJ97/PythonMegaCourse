{
 "cells": [
  {
   "cell_type": "code",
   "execution_count": 27,
   "metadata": {},
   "outputs": [
    {
     "data": {
      "text/html": [
       "<div>\n",
       "<style scoped>\n",
       "    .dataframe tbody tr th:only-of-type {\n",
       "        vertical-align: middle;\n",
       "    }\n",
       "\n",
       "    .dataframe tbody tr th {\n",
       "        vertical-align: top;\n",
       "    }\n",
       "\n",
       "    .dataframe thead th {\n",
       "        text-align: right;\n",
       "    }\n",
       "</style>\n",
       "<table border=\"1\" class=\"dataframe\">\n",
       "  <thead>\n",
       "    <tr style=\"text-align: right;\">\n",
       "      <th></th>\n",
       "      <th>High</th>\n",
       "      <th>Low</th>\n",
       "      <th>Open</th>\n",
       "      <th>Close</th>\n",
       "      <th>Volume</th>\n",
       "      <th>Adj Close</th>\n",
       "    </tr>\n",
       "    <tr>\n",
       "      <th>Date</th>\n",
       "      <th></th>\n",
       "      <th></th>\n",
       "      <th></th>\n",
       "      <th></th>\n",
       "      <th></th>\n",
       "      <th></th>\n",
       "    </tr>\n",
       "  </thead>\n",
       "  <tbody>\n",
       "    <tr>\n",
       "      <th>2016-03-01</th>\n",
       "      <td>25.192499</td>\n",
       "      <td>24.355000</td>\n",
       "      <td>24.412500</td>\n",
       "      <td>25.132500</td>\n",
       "      <td>201628400</td>\n",
       "      <td>23.451281</td>\n",
       "    </tr>\n",
       "    <tr>\n",
       "      <th>2016-03-02</th>\n",
       "      <td>25.222500</td>\n",
       "      <td>24.910000</td>\n",
       "      <td>25.127501</td>\n",
       "      <td>25.187500</td>\n",
       "      <td>132678400</td>\n",
       "      <td>23.502602</td>\n",
       "    </tr>\n",
       "    <tr>\n",
       "      <th>2016-03-03</th>\n",
       "      <td>25.427500</td>\n",
       "      <td>25.112499</td>\n",
       "      <td>25.145000</td>\n",
       "      <td>25.375000</td>\n",
       "      <td>147822800</td>\n",
       "      <td>23.677561</td>\n",
       "    </tr>\n",
       "    <tr>\n",
       "      <th>2016-03-04</th>\n",
       "      <td>25.937500</td>\n",
       "      <td>25.342501</td>\n",
       "      <td>25.592501</td>\n",
       "      <td>25.752501</td>\n",
       "      <td>184220400</td>\n",
       "      <td>24.029806</td>\n",
       "    </tr>\n",
       "    <tr>\n",
       "      <th>2016-03-07</th>\n",
       "      <td>25.707500</td>\n",
       "      <td>25.240000</td>\n",
       "      <td>25.597500</td>\n",
       "      <td>25.467501</td>\n",
       "      <td>143315600</td>\n",
       "      <td>23.763876</td>\n",
       "    </tr>\n",
       "    <tr>\n",
       "      <th>2016-03-08</th>\n",
       "      <td>25.440001</td>\n",
       "      <td>25.100000</td>\n",
       "      <td>25.195000</td>\n",
       "      <td>25.257500</td>\n",
       "      <td>126247600</td>\n",
       "      <td>23.567921</td>\n",
       "    </tr>\n",
       "    <tr>\n",
       "      <th>2016-03-09</th>\n",
       "      <td>25.395000</td>\n",
       "      <td>25.067499</td>\n",
       "      <td>25.327499</td>\n",
       "      <td>25.280001</td>\n",
       "      <td>108806800</td>\n",
       "      <td>23.588915</td>\n",
       "    </tr>\n",
       "    <tr>\n",
       "      <th>2016-03-10</th>\n",
       "      <td>25.559999</td>\n",
       "      <td>25.037500</td>\n",
       "      <td>25.352501</td>\n",
       "      <td>25.292500</td>\n",
       "      <td>134054400</td>\n",
       "      <td>23.600578</td>\n",
       "    </tr>\n",
       "  </tbody>\n",
       "</table>\n",
       "</div>"
      ],
      "text/plain": [
       "                 High        Low       Open      Close     Volume  Adj Close\n",
       "Date                                                                        \n",
       "2016-03-01  25.192499  24.355000  24.412500  25.132500  201628400  23.451281\n",
       "2016-03-02  25.222500  24.910000  25.127501  25.187500  132678400  23.502602\n",
       "2016-03-03  25.427500  25.112499  25.145000  25.375000  147822800  23.677561\n",
       "2016-03-04  25.937500  25.342501  25.592501  25.752501  184220400  24.029806\n",
       "2016-03-07  25.707500  25.240000  25.597500  25.467501  143315600  23.763876\n",
       "2016-03-08  25.440001  25.100000  25.195000  25.257500  126247600  23.567921\n",
       "2016-03-09  25.395000  25.067499  25.327499  25.280001  108806800  23.588915\n",
       "2016-03-10  25.559999  25.037500  25.352501  25.292500  134054400  23.600578"
      ]
     },
     "execution_count": 27,
     "metadata": {},
     "output_type": "execute_result"
    }
   ],
   "source": [
    "from pandas_datareader  import data\n",
    "from bokeh.plotting import figure, show, output_file\n",
    "from bokeh.models.annotations import Title\n",
    "import datetime\n",
    "\n",
    "\n",
    "start = datetime.datetime(2016,3,1)\n",
    "end = datetime.datetime(2016,3,10)\n",
    "\n",
    "df = data.DataReader(name=\"AAPL\", data_source=\"yahoo\", start=start, end=end)\n",
    "df"
   ]
  },
  {
   "cell_type": "code",
   "execution_count": 23,
   "metadata": {},
   "outputs": [
    {
     "data": {
      "text/plain": [
       "DatetimeIndex(['2016-03-01', '2016-03-02', '2016-03-03', '2016-03-04',\n",
       "               '2016-03-08'],\n",
       "              dtype='datetime64[ns]', name='Date', freq=None)"
      ]
     },
     "execution_count": 23,
     "metadata": {},
     "output_type": "execute_result"
    }
   ],
   "source": [
    "date_increase = df.index[df.Close > df.Open]\n",
    "date_decrease = df.index[df.Close < df.Open]"
   ]
  },
  {
   "cell_type": "code",
   "execution_count": 31,
   "metadata": {},
   "outputs": [
    {
     "name": "stderr",
     "output_type": "stream",
     "text": [
      "BokehUserWarning: ColumnDataSource's columns must be of the same length. Current lengths: ('x', 5), ('y', 8)\n",
      "BokehUserWarning: ColumnDataSource's columns must be of the same length. Current lengths: ('height', 8), ('x', 5), ('y', 8)\n",
      "BokehUserWarning: ColumnDataSource's columns must be of the same length. Current lengths: ('x', 3), ('y', 8)\n",
      "BokehUserWarning: ColumnDataSource's columns must be of the same length. Current lengths: ('height', 8), ('x', 3), ('y', 8)\n"
     ]
    }
   ],
   "source": [
    "p = figure(x_axis_type='datetime', width=1000, height=300)\n",
    "t = Title()\n",
    "t.text = 'Candlestick Chart'\n",
    "\n",
    "#p.title=\"Candlestick Chart\"\n",
    "\n",
    "hours_12 = 12*60*60*1000\n",
    "p.rect(df.index[df.Close > df.Open],(df.Open + df.Close)/2, hours_12, abs(df.Open-df.Close), fill_color=\"green\", line_color=\"black\")\n",
    "p.rect(df.index[df.Close < df.Open],(df.Open + df.Close)/2, hours_12, abs(df.Open-df.Close), fill_color=\"red\", line_color=\"black\")\n",
    "output_file(\"CS.html\")\n",
    "show(p)"
   ]
  }
 ],
 "metadata": {
  "kernelspec": {
   "display_name": "Python 3",
   "language": "python",
   "name": "python3"
  },
  "language_info": {
   "codemirror_mode": {
    "name": "ipython",
    "version": 3
   },
   "file_extension": ".py",
   "mimetype": "text/x-python",
   "name": "python",
   "nbconvert_exporter": "python",
   "pygments_lexer": "ipython3",
   "version": "3.8.5"
  }
 },
 "nbformat": 4,
 "nbformat_minor": 4
}
